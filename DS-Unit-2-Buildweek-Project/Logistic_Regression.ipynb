{
  "nbformat": 4,
  "nbformat_minor": 0,
  "metadata": {
    "kernelspec": {
      "display_name": "Python 3",
      "language": "python",
      "name": "python3"
    },
    "language_info": {
      "codemirror_mode": {
        "name": "ipython",
        "version": 3
      },
      "file_extension": ".py",
      "mimetype": "text/x-python",
      "name": "python",
      "nbconvert_exporter": "python",
      "pygments_lexer": "ipython3",
      "version": "3.7.6"
    },
    "colab": {
      "name": "Furkan_Onat_Buildweek2_Logistic_Regression.ipynb",
      "provenance": [],
      "collapsed_sections": [
        "7OPl6GKiJTM1",
        "SCV4waQPJTN9"
      ],
      "include_colab_link": true
    }
  },
  "cells": [
    {
      "cell_type": "markdown",
      "metadata": {
        "id": "view-in-github",
        "colab_type": "text"
      },
      "source": [
        "<a href=\"https://colab.research.google.com/github/furkanonat/DS-Unit-2-Buildweek-Project/blob/master/DS-Unit-2-Buildweek-Project/Logistic_Regression.ipynb\" target=\"_parent\"><img src=\"https://colab.research.google.com/assets/colab-badge.svg\" alt=\"Open In Colab\"/></a>"
      ]
    },
    {
      "cell_type": "code",
      "metadata": {
        "id": "mjhYGfqCJTK3",
        "colab_type": "code",
        "colab": {}
      },
      "source": [
        "import pandas as pd\n",
        "import os"
      ],
      "execution_count": 0,
      "outputs": []
    },
    {
      "cell_type": "code",
      "metadata": {
        "id": "gSBlwsafJTK8",
        "colab_type": "code",
        "outputId": "ce68b353-4243-4727-9d93-cbfbb6c97974",
        "colab": {}
      },
      "source": [
        "pwd"
      ],
      "execution_count": 0,
      "outputs": [
        {
          "output_type": "execute_result",
          "data": {
            "text/plain": [
              "'/Users/fonat/Desktop/Lambda School/Build_Unit_2_Project_Auto_Insurance_France'"
            ]
          },
          "metadata": {
            "tags": []
          },
          "execution_count": 2
        }
      ]
    },
    {
      "cell_type": "code",
      "metadata": {
        "id": "SXcwLnOrJTLA",
        "colab_type": "code",
        "colab": {}
      },
      "source": [
        "\n",
        "df = pd.read_csv(r'/Users/fonat/Desktop/Lambda School/Build_Unit_2_Project_Auto_Insurance_France/french_auto_insurance.csv')"
      ],
      "execution_count": 0,
      "outputs": []
    },
    {
      "cell_type": "code",
      "metadata": {
        "scrolled": true,
        "id": "-YKsrmmzJTLD",
        "colab_type": "code",
        "outputId": "8622cc5e-578b-400c-e3ba-aac241fc344b",
        "colab": {}
      },
      "source": [
        "df.head()"
      ],
      "execution_count": 0,
      "outputs": [
        {
          "output_type": "execute_result",
          "data": {
            "text/html": [
              "<div>\n",
              "<style scoped>\n",
              "    .dataframe tbody tr th:only-of-type {\n",
              "        vertical-align: middle;\n",
              "    }\n",
              "\n",
              "    .dataframe tbody tr th {\n",
              "        vertical-align: top;\n",
              "    }\n",
              "\n",
              "    .dataframe thead th {\n",
              "        text-align: right;\n",
              "    }\n",
              "</style>\n",
              "<table border=\"1\" class=\"dataframe\">\n",
              "  <thead>\n",
              "    <tr style=\"text-align: right;\">\n",
              "      <th></th>\n",
              "      <th>IDpol</th>\n",
              "      <th>ClaimNb</th>\n",
              "      <th>Exposure</th>\n",
              "      <th>Area</th>\n",
              "      <th>VehPower</th>\n",
              "      <th>VehAge</th>\n",
              "      <th>DrivAge</th>\n",
              "      <th>BonusMalus</th>\n",
              "      <th>VehBrand</th>\n",
              "      <th>VehGas</th>\n",
              "      <th>Density</th>\n",
              "      <th>Region</th>\n",
              "    </tr>\n",
              "  </thead>\n",
              "  <tbody>\n",
              "    <tr>\n",
              "      <th>0</th>\n",
              "      <td>1.0</td>\n",
              "      <td>1</td>\n",
              "      <td>0.10</td>\n",
              "      <td>D</td>\n",
              "      <td>5</td>\n",
              "      <td>0</td>\n",
              "      <td>55</td>\n",
              "      <td>50</td>\n",
              "      <td>B12</td>\n",
              "      <td>Regular</td>\n",
              "      <td>1217</td>\n",
              "      <td>R82</td>\n",
              "    </tr>\n",
              "    <tr>\n",
              "      <th>1</th>\n",
              "      <td>3.0</td>\n",
              "      <td>1</td>\n",
              "      <td>0.77</td>\n",
              "      <td>D</td>\n",
              "      <td>5</td>\n",
              "      <td>0</td>\n",
              "      <td>55</td>\n",
              "      <td>50</td>\n",
              "      <td>B12</td>\n",
              "      <td>Regular</td>\n",
              "      <td>1217</td>\n",
              "      <td>R82</td>\n",
              "    </tr>\n",
              "    <tr>\n",
              "      <th>2</th>\n",
              "      <td>5.0</td>\n",
              "      <td>1</td>\n",
              "      <td>0.75</td>\n",
              "      <td>B</td>\n",
              "      <td>6</td>\n",
              "      <td>2</td>\n",
              "      <td>52</td>\n",
              "      <td>50</td>\n",
              "      <td>B12</td>\n",
              "      <td>Diesel</td>\n",
              "      <td>54</td>\n",
              "      <td>R22</td>\n",
              "    </tr>\n",
              "    <tr>\n",
              "      <th>3</th>\n",
              "      <td>10.0</td>\n",
              "      <td>1</td>\n",
              "      <td>0.09</td>\n",
              "      <td>B</td>\n",
              "      <td>7</td>\n",
              "      <td>0</td>\n",
              "      <td>46</td>\n",
              "      <td>50</td>\n",
              "      <td>B12</td>\n",
              "      <td>Diesel</td>\n",
              "      <td>76</td>\n",
              "      <td>R72</td>\n",
              "    </tr>\n",
              "    <tr>\n",
              "      <th>4</th>\n",
              "      <td>11.0</td>\n",
              "      <td>1</td>\n",
              "      <td>0.84</td>\n",
              "      <td>B</td>\n",
              "      <td>7</td>\n",
              "      <td>0</td>\n",
              "      <td>46</td>\n",
              "      <td>50</td>\n",
              "      <td>B12</td>\n",
              "      <td>Diesel</td>\n",
              "      <td>76</td>\n",
              "      <td>R72</td>\n",
              "    </tr>\n",
              "  </tbody>\n",
              "</table>\n",
              "</div>"
            ],
            "text/plain": [
              "   IDpol  ClaimNb  Exposure Area  VehPower  VehAge  DrivAge  BonusMalus  \\\n",
              "0    1.0        1      0.10    D         5       0       55          50   \n",
              "1    3.0        1      0.77    D         5       0       55          50   \n",
              "2    5.0        1      0.75    B         6       2       52          50   \n",
              "3   10.0        1      0.09    B         7       0       46          50   \n",
              "4   11.0        1      0.84    B         7       0       46          50   \n",
              "\n",
              "  VehBrand   VehGas  Density Region  \n",
              "0      B12  Regular     1217    R82  \n",
              "1      B12  Regular     1217    R82  \n",
              "2      B12   Diesel       54    R22  \n",
              "3      B12   Diesel       76    R72  \n",
              "4      B12   Diesel       76    R72  "
            ]
          },
          "metadata": {
            "tags": []
          },
          "execution_count": 4
        }
      ]
    },
    {
      "cell_type": "code",
      "metadata": {
        "id": "V9qTCfhCJTLH",
        "colab_type": "code",
        "outputId": "338686e2-58fa-4a00-af54-af41b6f96fa3",
        "colab": {}
      },
      "source": [
        "df.isnull().sum()"
      ],
      "execution_count": 0,
      "outputs": [
        {
          "output_type": "execute_result",
          "data": {
            "text/plain": [
              "IDpol         0\n",
              "ClaimNb       0\n",
              "Exposure      0\n",
              "Area          0\n",
              "VehPower      0\n",
              "VehAge        0\n",
              "DrivAge       0\n",
              "BonusMalus    0\n",
              "VehBrand      0\n",
              "VehGas        0\n",
              "Density       0\n",
              "Region        0\n",
              "dtype: int64"
            ]
          },
          "metadata": {
            "tags": []
          },
          "execution_count": 5
        }
      ]
    },
    {
      "cell_type": "code",
      "metadata": {
        "id": "mqrQPVBrJTLK",
        "colab_type": "code",
        "outputId": "8cc5fc5a-2a8e-42d6-f7fa-941219af75ef",
        "colab": {}
      },
      "source": [
        "df.describe()"
      ],
      "execution_count": 0,
      "outputs": [
        {
          "output_type": "execute_result",
          "data": {
            "text/html": [
              "<div>\n",
              "<style scoped>\n",
              "    .dataframe tbody tr th:only-of-type {\n",
              "        vertical-align: middle;\n",
              "    }\n",
              "\n",
              "    .dataframe tbody tr th {\n",
              "        vertical-align: top;\n",
              "    }\n",
              "\n",
              "    .dataframe thead th {\n",
              "        text-align: right;\n",
              "    }\n",
              "</style>\n",
              "<table border=\"1\" class=\"dataframe\">\n",
              "  <thead>\n",
              "    <tr style=\"text-align: right;\">\n",
              "      <th></th>\n",
              "      <th>IDpol</th>\n",
              "      <th>ClaimNb</th>\n",
              "      <th>Exposure</th>\n",
              "      <th>VehPower</th>\n",
              "      <th>VehAge</th>\n",
              "      <th>DrivAge</th>\n",
              "      <th>BonusMalus</th>\n",
              "      <th>Density</th>\n",
              "    </tr>\n",
              "  </thead>\n",
              "  <tbody>\n",
              "    <tr>\n",
              "      <th>count</th>\n",
              "      <td>6.780130e+05</td>\n",
              "      <td>678013.000000</td>\n",
              "      <td>678013.000000</td>\n",
              "      <td>678013.000000</td>\n",
              "      <td>678013.000000</td>\n",
              "      <td>678013.000000</td>\n",
              "      <td>678013.000000</td>\n",
              "      <td>678013.000000</td>\n",
              "    </tr>\n",
              "    <tr>\n",
              "      <th>mean</th>\n",
              "      <td>2.621857e+06</td>\n",
              "      <td>0.053247</td>\n",
              "      <td>0.528750</td>\n",
              "      <td>6.454631</td>\n",
              "      <td>7.044265</td>\n",
              "      <td>45.499122</td>\n",
              "      <td>59.761502</td>\n",
              "      <td>1792.422405</td>\n",
              "    </tr>\n",
              "    <tr>\n",
              "      <th>std</th>\n",
              "      <td>1.641783e+06</td>\n",
              "      <td>0.240117</td>\n",
              "      <td>0.364442</td>\n",
              "      <td>2.050906</td>\n",
              "      <td>5.666232</td>\n",
              "      <td>14.137444</td>\n",
              "      <td>15.636658</td>\n",
              "      <td>3958.646564</td>\n",
              "    </tr>\n",
              "    <tr>\n",
              "      <th>min</th>\n",
              "      <td>1.000000e+00</td>\n",
              "      <td>0.000000</td>\n",
              "      <td>0.002732</td>\n",
              "      <td>4.000000</td>\n",
              "      <td>0.000000</td>\n",
              "      <td>18.000000</td>\n",
              "      <td>50.000000</td>\n",
              "      <td>1.000000</td>\n",
              "    </tr>\n",
              "    <tr>\n",
              "      <th>25%</th>\n",
              "      <td>1.157951e+06</td>\n",
              "      <td>0.000000</td>\n",
              "      <td>0.180000</td>\n",
              "      <td>5.000000</td>\n",
              "      <td>2.000000</td>\n",
              "      <td>34.000000</td>\n",
              "      <td>50.000000</td>\n",
              "      <td>92.000000</td>\n",
              "    </tr>\n",
              "    <tr>\n",
              "      <th>50%</th>\n",
              "      <td>2.272152e+06</td>\n",
              "      <td>0.000000</td>\n",
              "      <td>0.490000</td>\n",
              "      <td>6.000000</td>\n",
              "      <td>6.000000</td>\n",
              "      <td>44.000000</td>\n",
              "      <td>50.000000</td>\n",
              "      <td>393.000000</td>\n",
              "    </tr>\n",
              "    <tr>\n",
              "      <th>75%</th>\n",
              "      <td>4.046274e+06</td>\n",
              "      <td>0.000000</td>\n",
              "      <td>0.990000</td>\n",
              "      <td>7.000000</td>\n",
              "      <td>11.000000</td>\n",
              "      <td>55.000000</td>\n",
              "      <td>64.000000</td>\n",
              "      <td>1658.000000</td>\n",
              "    </tr>\n",
              "    <tr>\n",
              "      <th>max</th>\n",
              "      <td>6.114330e+06</td>\n",
              "      <td>16.000000</td>\n",
              "      <td>2.010000</td>\n",
              "      <td>15.000000</td>\n",
              "      <td>100.000000</td>\n",
              "      <td>100.000000</td>\n",
              "      <td>230.000000</td>\n",
              "      <td>27000.000000</td>\n",
              "    </tr>\n",
              "  </tbody>\n",
              "</table>\n",
              "</div>"
            ],
            "text/plain": [
              "              IDpol        ClaimNb       Exposure       VehPower  \\\n",
              "count  6.780130e+05  678013.000000  678013.000000  678013.000000   \n",
              "mean   2.621857e+06       0.053247       0.528750       6.454631   \n",
              "std    1.641783e+06       0.240117       0.364442       2.050906   \n",
              "min    1.000000e+00       0.000000       0.002732       4.000000   \n",
              "25%    1.157951e+06       0.000000       0.180000       5.000000   \n",
              "50%    2.272152e+06       0.000000       0.490000       6.000000   \n",
              "75%    4.046274e+06       0.000000       0.990000       7.000000   \n",
              "max    6.114330e+06      16.000000       2.010000      15.000000   \n",
              "\n",
              "              VehAge        DrivAge     BonusMalus        Density  \n",
              "count  678013.000000  678013.000000  678013.000000  678013.000000  \n",
              "mean        7.044265      45.499122      59.761502    1792.422405  \n",
              "std         5.666232      14.137444      15.636658    3958.646564  \n",
              "min         0.000000      18.000000      50.000000       1.000000  \n",
              "25%         2.000000      34.000000      50.000000      92.000000  \n",
              "50%         6.000000      44.000000      50.000000     393.000000  \n",
              "75%        11.000000      55.000000      64.000000    1658.000000  \n",
              "max       100.000000     100.000000     230.000000   27000.000000  "
            ]
          },
          "metadata": {
            "tags": []
          },
          "execution_count": 6
        }
      ]
    },
    {
      "cell_type": "code",
      "metadata": {
        "scrolled": true,
        "id": "0rPXAKO6JTLN",
        "colab_type": "code",
        "outputId": "dff01b75-73bf-4e84-8adf-e3045197f419",
        "colab": {}
      },
      "source": [
        "df['ClaimNb'].value_counts()"
      ],
      "execution_count": 0,
      "outputs": [
        {
          "output_type": "execute_result",
          "data": {
            "text/plain": [
              "0     643953\n",
              "1      32178\n",
              "2       1784\n",
              "3         82\n",
              "4          7\n",
              "11         3\n",
              "5          2\n",
              "16         1\n",
              "9          1\n",
              "8          1\n",
              "6          1\n",
              "Name: ClaimNb, dtype: int64"
            ]
          },
          "metadata": {
            "tags": []
          },
          "execution_count": 7
        }
      ]
    },
    {
      "cell_type": "markdown",
      "metadata": {
        "id": "1lrZ7ULuJTLV",
        "colab_type": "text"
      },
      "source": [
        "## Base Model 1\n",
        "Target= ClaimNb\n",
        "Model= logistic Regression\n",
        "Evaluation Metric. = F-1 Score and Validation Accuracy\n",
        "\n",
        "Description = Make ClaimNumber feature 2-class feature\n",
        "              \n"
      ]
    },
    {
      "cell_type": "code",
      "metadata": {
        "id": "yCvr1RfRJTLW",
        "colab_type": "code",
        "colab": {}
      },
      "source": [
        "%matplotlib inline\n",
        "import category_encoders as ce\n",
        "import matplotlib.pyplot as plt\n",
        "import numpy as np\n",
        "import pandas as pd\n",
        "import seaborn as sns\n",
        "from sklearn.impute import SimpleImputer\n",
        "from sklearn.metrics import accuracy_score\n",
        "from sklearn.model_selection import train_test_split\n",
        "from sklearn.pipeline import make_pipeline\n",
        "from sklearn.preprocessing import FunctionTransformer\n",
        "from sklearn.ensemble import RandomForestClassifier\n",
        "from sklearn.tree import DecisionTreeClassifier"
      ],
      "execution_count": 0,
      "outputs": []
    },
    {
      "cell_type": "code",
      "metadata": {
        "id": "9IL6AkB3JTLZ",
        "colab_type": "code",
        "colab": {}
      },
      "source": [
        "df_model = df.copy()"
      ],
      "execution_count": 0,
      "outputs": []
    },
    {
      "cell_type": "code",
      "metadata": {
        "scrolled": false,
        "id": "EzfelTwDJTLb",
        "colab_type": "code",
        "outputId": "7c06bbad-2109-4643-9ca9-6d2fb6128868",
        "colab": {}
      },
      "source": [
        "df_model['ClaimNb'].value_counts(normalize=True)"
      ],
      "execution_count": 0,
      "outputs": [
        {
          "output_type": "execute_result",
          "data": {
            "text/plain": [
              "0     0.949765\n",
              "1     0.047459\n",
              "2     0.002631\n",
              "3     0.000121\n",
              "4     0.000010\n",
              "11    0.000004\n",
              "5     0.000003\n",
              "16    0.000001\n",
              "9     0.000001\n",
              "8     0.000001\n",
              "6     0.000001\n",
              "Name: ClaimNb, dtype: float64"
            ]
          },
          "metadata": {
            "tags": []
          },
          "execution_count": 10
        }
      ]
    },
    {
      "cell_type": "code",
      "metadata": {
        "id": "v--7VxGJJTLe",
        "colab_type": "code",
        "outputId": "2fb26fe9-5dc6-4b7a-9aba-8c86ac53a67c",
        "colab": {}
      },
      "source": [
        "df_model['ClaimNb'].value_counts()"
      ],
      "execution_count": 0,
      "outputs": [
        {
          "output_type": "execute_result",
          "data": {
            "text/plain": [
              "0     643953\n",
              "1      32178\n",
              "2       1784\n",
              "3         82\n",
              "4          7\n",
              "11         3\n",
              "5          2\n",
              "16         1\n",
              "9          1\n",
              "8          1\n",
              "6          1\n",
              "Name: ClaimNb, dtype: int64"
            ]
          },
          "metadata": {
            "tags": []
          },
          "execution_count": 11
        }
      ]
    },
    {
      "cell_type": "code",
      "metadata": {
        "id": "E-aYmG8nJTLs",
        "colab_type": "code",
        "colab": {}
      },
      "source": [
        "# I will create a new column for number of claims per policy.\n",
        "df_model['ClaimNumber'] = df_model['ClaimNb']"
      ],
      "execution_count": 0,
      "outputs": []
    },
    {
      "cell_type": "code",
      "metadata": {
        "scrolled": false,
        "id": "6A0CvqndJTLz",
        "colab_type": "code",
        "outputId": "bd06b406-9b7f-480a-daee-61c3bd1a223a",
        "colab": {}
      },
      "source": [
        "df_model.head()"
      ],
      "execution_count": 0,
      "outputs": [
        {
          "output_type": "execute_result",
          "data": {
            "text/html": [
              "<div>\n",
              "<style scoped>\n",
              "    .dataframe tbody tr th:only-of-type {\n",
              "        vertical-align: middle;\n",
              "    }\n",
              "\n",
              "    .dataframe tbody tr th {\n",
              "        vertical-align: top;\n",
              "    }\n",
              "\n",
              "    .dataframe thead th {\n",
              "        text-align: right;\n",
              "    }\n",
              "</style>\n",
              "<table border=\"1\" class=\"dataframe\">\n",
              "  <thead>\n",
              "    <tr style=\"text-align: right;\">\n",
              "      <th></th>\n",
              "      <th>IDpol</th>\n",
              "      <th>ClaimNb</th>\n",
              "      <th>Exposure</th>\n",
              "      <th>Area</th>\n",
              "      <th>VehPower</th>\n",
              "      <th>VehAge</th>\n",
              "      <th>DrivAge</th>\n",
              "      <th>BonusMalus</th>\n",
              "      <th>VehBrand</th>\n",
              "      <th>VehGas</th>\n",
              "      <th>Density</th>\n",
              "      <th>Region</th>\n",
              "      <th>ClaimNumber</th>\n",
              "    </tr>\n",
              "  </thead>\n",
              "  <tbody>\n",
              "    <tr>\n",
              "      <th>0</th>\n",
              "      <td>1.0</td>\n",
              "      <td>1</td>\n",
              "      <td>0.10</td>\n",
              "      <td>D</td>\n",
              "      <td>5</td>\n",
              "      <td>0</td>\n",
              "      <td>55</td>\n",
              "      <td>50</td>\n",
              "      <td>B12</td>\n",
              "      <td>Regular</td>\n",
              "      <td>1217</td>\n",
              "      <td>R82</td>\n",
              "      <td>1</td>\n",
              "    </tr>\n",
              "    <tr>\n",
              "      <th>1</th>\n",
              "      <td>3.0</td>\n",
              "      <td>1</td>\n",
              "      <td>0.77</td>\n",
              "      <td>D</td>\n",
              "      <td>5</td>\n",
              "      <td>0</td>\n",
              "      <td>55</td>\n",
              "      <td>50</td>\n",
              "      <td>B12</td>\n",
              "      <td>Regular</td>\n",
              "      <td>1217</td>\n",
              "      <td>R82</td>\n",
              "      <td>1</td>\n",
              "    </tr>\n",
              "    <tr>\n",
              "      <th>2</th>\n",
              "      <td>5.0</td>\n",
              "      <td>1</td>\n",
              "      <td>0.75</td>\n",
              "      <td>B</td>\n",
              "      <td>6</td>\n",
              "      <td>2</td>\n",
              "      <td>52</td>\n",
              "      <td>50</td>\n",
              "      <td>B12</td>\n",
              "      <td>Diesel</td>\n",
              "      <td>54</td>\n",
              "      <td>R22</td>\n",
              "      <td>1</td>\n",
              "    </tr>\n",
              "    <tr>\n",
              "      <th>3</th>\n",
              "      <td>10.0</td>\n",
              "      <td>1</td>\n",
              "      <td>0.09</td>\n",
              "      <td>B</td>\n",
              "      <td>7</td>\n",
              "      <td>0</td>\n",
              "      <td>46</td>\n",
              "      <td>50</td>\n",
              "      <td>B12</td>\n",
              "      <td>Diesel</td>\n",
              "      <td>76</td>\n",
              "      <td>R72</td>\n",
              "      <td>1</td>\n",
              "    </tr>\n",
              "    <tr>\n",
              "      <th>4</th>\n",
              "      <td>11.0</td>\n",
              "      <td>1</td>\n",
              "      <td>0.84</td>\n",
              "      <td>B</td>\n",
              "      <td>7</td>\n",
              "      <td>0</td>\n",
              "      <td>46</td>\n",
              "      <td>50</td>\n",
              "      <td>B12</td>\n",
              "      <td>Diesel</td>\n",
              "      <td>76</td>\n",
              "      <td>R72</td>\n",
              "      <td>1</td>\n",
              "    </tr>\n",
              "  </tbody>\n",
              "</table>\n",
              "</div>"
            ],
            "text/plain": [
              "   IDpol  ClaimNb  Exposure Area  VehPower  VehAge  DrivAge  BonusMalus  \\\n",
              "0    1.0        1      0.10    D         5       0       55          50   \n",
              "1    3.0        1      0.77    D         5       0       55          50   \n",
              "2    5.0        1      0.75    B         6       2       52          50   \n",
              "3   10.0        1      0.09    B         7       0       46          50   \n",
              "4   11.0        1      0.84    B         7       0       46          50   \n",
              "\n",
              "  VehBrand   VehGas  Density Region  ClaimNumber  \n",
              "0      B12  Regular     1217    R82            1  \n",
              "1      B12  Regular     1217    R82            1  \n",
              "2      B12   Diesel       54    R22            1  \n",
              "3      B12   Diesel       76    R72            1  \n",
              "4      B12   Diesel       76    R72            1  "
            ]
          },
          "metadata": {
            "tags": []
          },
          "execution_count": 13
        }
      ]
    },
    {
      "cell_type": "code",
      "metadata": {
        "scrolled": true,
        "id": "6kY3isWWJTL2",
        "colab_type": "code",
        "outputId": "61ab3034-4074-4402-ad65-58f4ce05a483",
        "colab": {}
      },
      "source": [
        "# I modify the new 'Claimnumber' column to have just 2 classes : 0 ='no claim', 1= 'Claim'. \n",
        "df_model['ClaimNumber'] = df_model['ClaimNumber'].replace({0: 0, 1: 1, 2: 1, 3: 1, 4: 1, 11:1 ,\n",
        "                                                               5: 1, 16: 1, 9: 1, 8: 1, 6:1})\n",
        "df_model.head()"
      ],
      "execution_count": 0,
      "outputs": [
        {
          "output_type": "execute_result",
          "data": {
            "text/html": [
              "<div>\n",
              "<style scoped>\n",
              "    .dataframe tbody tr th:only-of-type {\n",
              "        vertical-align: middle;\n",
              "    }\n",
              "\n",
              "    .dataframe tbody tr th {\n",
              "        vertical-align: top;\n",
              "    }\n",
              "\n",
              "    .dataframe thead th {\n",
              "        text-align: right;\n",
              "    }\n",
              "</style>\n",
              "<table border=\"1\" class=\"dataframe\">\n",
              "  <thead>\n",
              "    <tr style=\"text-align: right;\">\n",
              "      <th></th>\n",
              "      <th>IDpol</th>\n",
              "      <th>ClaimNb</th>\n",
              "      <th>Exposure</th>\n",
              "      <th>Area</th>\n",
              "      <th>VehPower</th>\n",
              "      <th>VehAge</th>\n",
              "      <th>DrivAge</th>\n",
              "      <th>BonusMalus</th>\n",
              "      <th>VehBrand</th>\n",
              "      <th>VehGas</th>\n",
              "      <th>Density</th>\n",
              "      <th>Region</th>\n",
              "      <th>ClaimNumber</th>\n",
              "    </tr>\n",
              "  </thead>\n",
              "  <tbody>\n",
              "    <tr>\n",
              "      <th>0</th>\n",
              "      <td>1.0</td>\n",
              "      <td>1</td>\n",
              "      <td>0.10</td>\n",
              "      <td>D</td>\n",
              "      <td>5</td>\n",
              "      <td>0</td>\n",
              "      <td>55</td>\n",
              "      <td>50</td>\n",
              "      <td>B12</td>\n",
              "      <td>Regular</td>\n",
              "      <td>1217</td>\n",
              "      <td>R82</td>\n",
              "      <td>1</td>\n",
              "    </tr>\n",
              "    <tr>\n",
              "      <th>1</th>\n",
              "      <td>3.0</td>\n",
              "      <td>1</td>\n",
              "      <td>0.77</td>\n",
              "      <td>D</td>\n",
              "      <td>5</td>\n",
              "      <td>0</td>\n",
              "      <td>55</td>\n",
              "      <td>50</td>\n",
              "      <td>B12</td>\n",
              "      <td>Regular</td>\n",
              "      <td>1217</td>\n",
              "      <td>R82</td>\n",
              "      <td>1</td>\n",
              "    </tr>\n",
              "    <tr>\n",
              "      <th>2</th>\n",
              "      <td>5.0</td>\n",
              "      <td>1</td>\n",
              "      <td>0.75</td>\n",
              "      <td>B</td>\n",
              "      <td>6</td>\n",
              "      <td>2</td>\n",
              "      <td>52</td>\n",
              "      <td>50</td>\n",
              "      <td>B12</td>\n",
              "      <td>Diesel</td>\n",
              "      <td>54</td>\n",
              "      <td>R22</td>\n",
              "      <td>1</td>\n",
              "    </tr>\n",
              "    <tr>\n",
              "      <th>3</th>\n",
              "      <td>10.0</td>\n",
              "      <td>1</td>\n",
              "      <td>0.09</td>\n",
              "      <td>B</td>\n",
              "      <td>7</td>\n",
              "      <td>0</td>\n",
              "      <td>46</td>\n",
              "      <td>50</td>\n",
              "      <td>B12</td>\n",
              "      <td>Diesel</td>\n",
              "      <td>76</td>\n",
              "      <td>R72</td>\n",
              "      <td>1</td>\n",
              "    </tr>\n",
              "    <tr>\n",
              "      <th>4</th>\n",
              "      <td>11.0</td>\n",
              "      <td>1</td>\n",
              "      <td>0.84</td>\n",
              "      <td>B</td>\n",
              "      <td>7</td>\n",
              "      <td>0</td>\n",
              "      <td>46</td>\n",
              "      <td>50</td>\n",
              "      <td>B12</td>\n",
              "      <td>Diesel</td>\n",
              "      <td>76</td>\n",
              "      <td>R72</td>\n",
              "      <td>1</td>\n",
              "    </tr>\n",
              "  </tbody>\n",
              "</table>\n",
              "</div>"
            ],
            "text/plain": [
              "   IDpol  ClaimNb  Exposure Area  VehPower  VehAge  DrivAge  BonusMalus  \\\n",
              "0    1.0        1      0.10    D         5       0       55          50   \n",
              "1    3.0        1      0.77    D         5       0       55          50   \n",
              "2    5.0        1      0.75    B         6       2       52          50   \n",
              "3   10.0        1      0.09    B         7       0       46          50   \n",
              "4   11.0        1      0.84    B         7       0       46          50   \n",
              "\n",
              "  VehBrand   VehGas  Density Region  ClaimNumber  \n",
              "0      B12  Regular     1217    R82            1  \n",
              "1      B12  Regular     1217    R82            1  \n",
              "2      B12   Diesel       54    R22            1  \n",
              "3      B12   Diesel       76    R72            1  \n",
              "4      B12   Diesel       76    R72            1  "
            ]
          },
          "metadata": {
            "tags": []
          },
          "execution_count": 14
        }
      ]
    },
    {
      "cell_type": "code",
      "metadata": {
        "id": "zz3Ky9C0JTL9",
        "colab_type": "code",
        "colab": {}
      },
      "source": [
        "# I will use \"ClaimNumber\" feature as the target for the model\n",
        "y = df_model['ClaimNumber']"
      ],
      "execution_count": 0,
      "outputs": []
    },
    {
      "cell_type": "code",
      "metadata": {
        "scrolled": true,
        "id": "1iiIASsKJTMC",
        "colab_type": "code",
        "outputId": "a90202b0-2a5f-4e56-9b37-e47e445c7101",
        "colab": {}
      },
      "source": [
        "# Baseline for the majority class\n",
        "df_model['ClaimNumber'].value_counts(normalize=True)"
      ],
      "execution_count": 0,
      "outputs": [
        {
          "output_type": "execute_result",
          "data": {
            "text/plain": [
              "0    0.949765\n",
              "1    0.050235\n",
              "Name: ClaimNumber, dtype: float64"
            ]
          },
          "metadata": {
            "tags": []
          },
          "execution_count": 16
        }
      ]
    },
    {
      "cell_type": "code",
      "metadata": {
        "scrolled": false,
        "id": "fUn6oFT5JTMF",
        "colab_type": "code",
        "outputId": "f7d7706f-9959-4040-d95a-d72d2d914d06",
        "colab": {}
      },
      "source": [
        "df_model.dtypes"
      ],
      "execution_count": 0,
      "outputs": [
        {
          "output_type": "execute_result",
          "data": {
            "text/plain": [
              "IDpol          float64\n",
              "ClaimNb          int64\n",
              "Exposure       float64\n",
              "Area            object\n",
              "VehPower         int64\n",
              "VehAge           int64\n",
              "DrivAge          int64\n",
              "BonusMalus       int64\n",
              "VehBrand        object\n",
              "VehGas          object\n",
              "Density          int64\n",
              "Region          object\n",
              "ClaimNumber      int64\n",
              "dtype: object"
            ]
          },
          "metadata": {
            "tags": []
          },
          "execution_count": 17
        }
      ]
    },
    {
      "cell_type": "code",
      "metadata": {
        "id": "T2yWhkbvJTMJ",
        "colab_type": "code",
        "outputId": "a323bd9d-0f6a-4a51-ff45-1caeca624a30",
        "colab": {}
      },
      "source": [
        "df_model.head() "
      ],
      "execution_count": 0,
      "outputs": [
        {
          "output_type": "execute_result",
          "data": {
            "text/html": [
              "<div>\n",
              "<style scoped>\n",
              "    .dataframe tbody tr th:only-of-type {\n",
              "        vertical-align: middle;\n",
              "    }\n",
              "\n",
              "    .dataframe tbody tr th {\n",
              "        vertical-align: top;\n",
              "    }\n",
              "\n",
              "    .dataframe thead th {\n",
              "        text-align: right;\n",
              "    }\n",
              "</style>\n",
              "<table border=\"1\" class=\"dataframe\">\n",
              "  <thead>\n",
              "    <tr style=\"text-align: right;\">\n",
              "      <th></th>\n",
              "      <th>IDpol</th>\n",
              "      <th>ClaimNb</th>\n",
              "      <th>Exposure</th>\n",
              "      <th>Area</th>\n",
              "      <th>VehPower</th>\n",
              "      <th>VehAge</th>\n",
              "      <th>DrivAge</th>\n",
              "      <th>BonusMalus</th>\n",
              "      <th>VehBrand</th>\n",
              "      <th>VehGas</th>\n",
              "      <th>Density</th>\n",
              "      <th>Region</th>\n",
              "      <th>ClaimNumber</th>\n",
              "    </tr>\n",
              "  </thead>\n",
              "  <tbody>\n",
              "    <tr>\n",
              "      <th>0</th>\n",
              "      <td>1.0</td>\n",
              "      <td>1</td>\n",
              "      <td>0.10</td>\n",
              "      <td>D</td>\n",
              "      <td>5</td>\n",
              "      <td>0</td>\n",
              "      <td>55</td>\n",
              "      <td>50</td>\n",
              "      <td>B12</td>\n",
              "      <td>Regular</td>\n",
              "      <td>1217</td>\n",
              "      <td>R82</td>\n",
              "      <td>1</td>\n",
              "    </tr>\n",
              "    <tr>\n",
              "      <th>1</th>\n",
              "      <td>3.0</td>\n",
              "      <td>1</td>\n",
              "      <td>0.77</td>\n",
              "      <td>D</td>\n",
              "      <td>5</td>\n",
              "      <td>0</td>\n",
              "      <td>55</td>\n",
              "      <td>50</td>\n",
              "      <td>B12</td>\n",
              "      <td>Regular</td>\n",
              "      <td>1217</td>\n",
              "      <td>R82</td>\n",
              "      <td>1</td>\n",
              "    </tr>\n",
              "    <tr>\n",
              "      <th>2</th>\n",
              "      <td>5.0</td>\n",
              "      <td>1</td>\n",
              "      <td>0.75</td>\n",
              "      <td>B</td>\n",
              "      <td>6</td>\n",
              "      <td>2</td>\n",
              "      <td>52</td>\n",
              "      <td>50</td>\n",
              "      <td>B12</td>\n",
              "      <td>Diesel</td>\n",
              "      <td>54</td>\n",
              "      <td>R22</td>\n",
              "      <td>1</td>\n",
              "    </tr>\n",
              "    <tr>\n",
              "      <th>3</th>\n",
              "      <td>10.0</td>\n",
              "      <td>1</td>\n",
              "      <td>0.09</td>\n",
              "      <td>B</td>\n",
              "      <td>7</td>\n",
              "      <td>0</td>\n",
              "      <td>46</td>\n",
              "      <td>50</td>\n",
              "      <td>B12</td>\n",
              "      <td>Diesel</td>\n",
              "      <td>76</td>\n",
              "      <td>R72</td>\n",
              "      <td>1</td>\n",
              "    </tr>\n",
              "    <tr>\n",
              "      <th>4</th>\n",
              "      <td>11.0</td>\n",
              "      <td>1</td>\n",
              "      <td>0.84</td>\n",
              "      <td>B</td>\n",
              "      <td>7</td>\n",
              "      <td>0</td>\n",
              "      <td>46</td>\n",
              "      <td>50</td>\n",
              "      <td>B12</td>\n",
              "      <td>Diesel</td>\n",
              "      <td>76</td>\n",
              "      <td>R72</td>\n",
              "      <td>1</td>\n",
              "    </tr>\n",
              "  </tbody>\n",
              "</table>\n",
              "</div>"
            ],
            "text/plain": [
              "   IDpol  ClaimNb  Exposure Area  VehPower  VehAge  DrivAge  BonusMalus  \\\n",
              "0    1.0        1      0.10    D         5       0       55          50   \n",
              "1    3.0        1      0.77    D         5       0       55          50   \n",
              "2    5.0        1      0.75    B         6       2       52          50   \n",
              "3   10.0        1      0.09    B         7       0       46          50   \n",
              "4   11.0        1      0.84    B         7       0       46          50   \n",
              "\n",
              "  VehBrand   VehGas  Density Region  ClaimNumber  \n",
              "0      B12  Regular     1217    R82            1  \n",
              "1      B12  Regular     1217    R82            1  \n",
              "2      B12   Diesel       54    R22            1  \n",
              "3      B12   Diesel       76    R72            1  \n",
              "4      B12   Diesel       76    R72            1  "
            ]
          },
          "metadata": {
            "tags": []
          },
          "execution_count": 18
        }
      ]
    },
    {
      "cell_type": "code",
      "metadata": {
        "id": "Svlwo7LtJTML",
        "colab_type": "code",
        "outputId": "ecc6c073-b019-41f9-f499-793cdc45abac",
        "colab": {}
      },
      "source": [
        "# Split for test and train\n",
        "train, test = train_test_split(df_model, train_size=0.80, test_size=0.20, stratify=df_model['ClaimNumber'], random_state=42)\n",
        "\n",
        "train.shape, test.shape"
      ],
      "execution_count": 0,
      "outputs": [
        {
          "output_type": "execute_result",
          "data": {
            "text/plain": [
              "((542410, 13), (135603, 13))"
            ]
          },
          "metadata": {
            "tags": []
          },
          "execution_count": 19
        }
      ]
    },
    {
      "cell_type": "code",
      "metadata": {
        "id": "99UBSOgCJTMP",
        "colab_type": "code",
        "outputId": "715bdbf6-75ea-4dc0-9896-87661f981666",
        "colab": {}
      },
      "source": [
        "# Split for train and val \n",
        "train, val = train_test_split(train, train_size = 0.80, test_size=0.20, stratify=train['ClaimNumber'], random_state=42)\n",
        "\n",
        "train.shape, val.shape"
      ],
      "execution_count": 0,
      "outputs": [
        {
          "output_type": "execute_result",
          "data": {
            "text/plain": [
              "((433928, 13), (108482, 13))"
            ]
          },
          "metadata": {
            "tags": []
          },
          "execution_count": 20
        }
      ]
    },
    {
      "cell_type": "code",
      "metadata": {
        "id": "_YKcCxX5JTMT",
        "colab_type": "code",
        "colab": {}
      },
      "source": [
        "def wrangle(X):\n",
        "    # Drop IDpol since it doesn't have any explanatory power\n",
        "    # Drop ClaimNb as they are a function of our target.\n",
        "    column_drop = ['IDpol','ClaimNb']\n",
        "    X = X.drop(columns=column_drop)\n",
        "    return X"
      ],
      "execution_count": 0,
      "outputs": []
    },
    {
      "cell_type": "code",
      "metadata": {
        "id": "cpZ1R6AqJTMW",
        "colab_type": "code",
        "colab": {}
      },
      "source": [
        "train = wrangle(train)\n",
        "val = wrangle(val)\n",
        "test = wrangle(test)"
      ],
      "execution_count": 0,
      "outputs": []
    },
    {
      "cell_type": "code",
      "metadata": {
        "scrolled": true,
        "id": "HWoBjegbJTMZ",
        "colab_type": "code",
        "outputId": "dcf7f394-22d0-49d2-d7a9-09774ec795d1",
        "colab": {}
      },
      "source": [
        "train.head()"
      ],
      "execution_count": 0,
      "outputs": [
        {
          "output_type": "execute_result",
          "data": {
            "text/html": [
              "<div>\n",
              "<style scoped>\n",
              "    .dataframe tbody tr th:only-of-type {\n",
              "        vertical-align: middle;\n",
              "    }\n",
              "\n",
              "    .dataframe tbody tr th {\n",
              "        vertical-align: top;\n",
              "    }\n",
              "\n",
              "    .dataframe thead th {\n",
              "        text-align: right;\n",
              "    }\n",
              "</style>\n",
              "<table border=\"1\" class=\"dataframe\">\n",
              "  <thead>\n",
              "    <tr style=\"text-align: right;\">\n",
              "      <th></th>\n",
              "      <th>Exposure</th>\n",
              "      <th>Area</th>\n",
              "      <th>VehPower</th>\n",
              "      <th>VehAge</th>\n",
              "      <th>DrivAge</th>\n",
              "      <th>BonusMalus</th>\n",
              "      <th>VehBrand</th>\n",
              "      <th>VehGas</th>\n",
              "      <th>Density</th>\n",
              "      <th>Region</th>\n",
              "      <th>ClaimNumber</th>\n",
              "    </tr>\n",
              "  </thead>\n",
              "  <tbody>\n",
              "    <tr>\n",
              "      <th>226447</th>\n",
              "      <td>0.74</td>\n",
              "      <td>C</td>\n",
              "      <td>5</td>\n",
              "      <td>11</td>\n",
              "      <td>30</td>\n",
              "      <td>68</td>\n",
              "      <td>B5</td>\n",
              "      <td>Diesel</td>\n",
              "      <td>282</td>\n",
              "      <td>R24</td>\n",
              "      <td>0</td>\n",
              "    </tr>\n",
              "    <tr>\n",
              "      <th>456701</th>\n",
              "      <td>1.00</td>\n",
              "      <td>A</td>\n",
              "      <td>15</td>\n",
              "      <td>21</td>\n",
              "      <td>42</td>\n",
              "      <td>50</td>\n",
              "      <td>B1</td>\n",
              "      <td>Regular</td>\n",
              "      <td>39</td>\n",
              "      <td>R24</td>\n",
              "      <td>0</td>\n",
              "    </tr>\n",
              "    <tr>\n",
              "      <th>598219</th>\n",
              "      <td>0.19</td>\n",
              "      <td>C</td>\n",
              "      <td>5</td>\n",
              "      <td>2</td>\n",
              "      <td>59</td>\n",
              "      <td>50</td>\n",
              "      <td>B2</td>\n",
              "      <td>Regular</td>\n",
              "      <td>109</td>\n",
              "      <td>R91</td>\n",
              "      <td>0</td>\n",
              "    </tr>\n",
              "    <tr>\n",
              "      <th>658764</th>\n",
              "      <td>0.04</td>\n",
              "      <td>C</td>\n",
              "      <td>4</td>\n",
              "      <td>4</td>\n",
              "      <td>42</td>\n",
              "      <td>50</td>\n",
              "      <td>B12</td>\n",
              "      <td>Diesel</td>\n",
              "      <td>162</td>\n",
              "      <td>R93</td>\n",
              "      <td>0</td>\n",
              "    </tr>\n",
              "    <tr>\n",
              "      <th>327686</th>\n",
              "      <td>1.00</td>\n",
              "      <td>C</td>\n",
              "      <td>6</td>\n",
              "      <td>10</td>\n",
              "      <td>44</td>\n",
              "      <td>50</td>\n",
              "      <td>B2</td>\n",
              "      <td>Regular</td>\n",
              "      <td>217</td>\n",
              "      <td>R52</td>\n",
              "      <td>0</td>\n",
              "    </tr>\n",
              "  </tbody>\n",
              "</table>\n",
              "</div>"
            ],
            "text/plain": [
              "        Exposure Area  VehPower  VehAge  DrivAge  BonusMalus VehBrand  \\\n",
              "226447      0.74    C         5      11       30          68       B5   \n",
              "456701      1.00    A        15      21       42          50       B1   \n",
              "598219      0.19    C         5       2       59          50       B2   \n",
              "658764      0.04    C         4       4       42          50      B12   \n",
              "327686      1.00    C         6      10       44          50       B2   \n",
              "\n",
              "         VehGas  Density Region  ClaimNumber  \n",
              "226447   Diesel      282    R24            0  \n",
              "456701  Regular       39    R24            0  \n",
              "598219  Regular      109    R91            0  \n",
              "658764   Diesel      162    R93            0  \n",
              "327686  Regular      217    R52            0  "
            ]
          },
          "metadata": {
            "tags": []
          },
          "execution_count": 23
        }
      ]
    },
    {
      "cell_type": "code",
      "metadata": {
        "id": "k1jdbmsTJTMc",
        "colab_type": "code",
        "colab": {}
      },
      "source": [
        "# Arranging features matrix and y target vector\n",
        "target = 'ClaimNumber'\n",
        "X_train = train.drop(columns=target)\n",
        "y_train = train[target]\n",
        "X_val = val.drop(columns=target)\n",
        "y_val = val[target]\n",
        "X_test = test.drop(columns=target)\n",
        "y_test = test[target]"
      ],
      "execution_count": 0,
      "outputs": []
    },
    {
      "cell_type": "code",
      "metadata": {
        "id": "6CwonuIxJTMe",
        "colab_type": "code",
        "colab": {}
      },
      "source": [
        "# TODO\n",
        "import category_encoders as ce\n",
        "from sklearn.impute import SimpleImputer\n",
        "from sklearn.linear_model import LogisticRegression\n",
        "from sklearn.pipeline import make_pipeline\n",
        "from sklearn.preprocessing import StandardScaler"
      ],
      "execution_count": 0,
      "outputs": []
    },
    {
      "cell_type": "code",
      "metadata": {
        "id": "FA-tGYnjJTMl",
        "colab_type": "code",
        "outputId": "8415bf03-21fb-48ff-9ba7-c79423efce2c",
        "colab": {}
      },
      "source": [
        "pipeline = make_pipeline(\n",
        "    ce.OrdinalEncoder(), \n",
        "    SimpleImputer(strategy='mean'), \n",
        "    StandardScaler(), \n",
        "    LogisticRegression(max_iter=1000)\n",
        ")\n",
        "\n",
        "# Fit on train\n",
        "pipeline.fit(X_train, y_train)\n",
        "\n",
        "# Score on val\n",
        "print('Validation Accuracy', pipeline.score(X_val, y_val))\n",
        "\n",
        "# Predict on test\n",
        "y_pred = pipeline.predict(X_test)"
      ],
      "execution_count": 0,
      "outputs": [
        {
          "output_type": "stream",
          "text": [
            "Validation Accuracy 0.9497612507144042\n"
          ],
          "name": "stdout"
        }
      ]
    },
    {
      "cell_type": "code",
      "metadata": {
        "id": "n3H0H2yGJTMo",
        "colab_type": "code",
        "outputId": "730535a5-7072-45ce-e1eb-5b5f860e482c",
        "colab": {}
      },
      "source": [
        "# Test accuracy\n",
        "accuracy = accuracy_score(y_pred, y_test)\n",
        "\n",
        "print(\"Accuracy : %.4f%%\" % (accuracy * 100.0))"
      ],
      "execution_count": 0,
      "outputs": [
        {
          "output_type": "stream",
          "text": [
            "Accuracy : 94.9772%\n"
          ],
          "name": "stdout"
        }
      ]
    },
    {
      "cell_type": "code",
      "metadata": {
        "id": "u175smfmJTMq",
        "colab_type": "code",
        "outputId": "2369ac3c-1a16-4b1d-9600-bba8f2aa9810",
        "colab": {}
      },
      "source": [
        "from sklearn.metrics import confusion_matrix\n",
        "cnf_matrix = confusion_matrix(y_test, y_pred)\n",
        "\n",
        "print('Confusion matrix:\\n', cnf_matrix)"
      ],
      "execution_count": 0,
      "outputs": [
        {
          "output_type": "stream",
          "text": [
            "Confusion matrix:\n",
            " [[128789      2]\n",
            " [  6809      3]]\n"
          ],
          "name": "stdout"
        }
      ]
    },
    {
      "cell_type": "code",
      "metadata": {
        "scrolled": true,
        "id": "MiJmJgASJTMt",
        "colab_type": "code",
        "outputId": "7397828c-e6df-45cf-d7e6-ba39e53ca795",
        "colab": {}
      },
      "source": [
        "# Explanatory graph: Confusion Matrix \n",
        "from sklearn.metrics import plot_confusion_matrix\n",
        "title='Logistic Regression \\nConfusion Matrix'\n",
        "print(title)\n",
        "plot_confusion_matrix(pipeline, X_test, y_test, values_format='.0f', xticks_rotation='vertical');"
      ],
      "execution_count": 0,
      "outputs": [
        {
          "output_type": "stream",
          "text": [
            "Logistic Regression \n",
            "Confusion Matrix\n"
          ],
          "name": "stdout"
        },
        {
          "output_type": "display_data",
          "data": {
            "image/png": "[encoded data removed]",
            "text/plain": [
              "<Figure size 432x288 with 2 Axes>"
            ]
          },
          "metadata": {
            "tags": [],
            "needs_background": "light"
          }
        }
      ]
    },
    {
      "cell_type": "code",
      "metadata": {
        "id": "QIPjJjRDJTMw",
        "colab_type": "code",
        "outputId": "5c6b395c-8f34-4057-d29e-48e5c5bddbad",
        "colab": {}
      },
      "source": [
        "# import the metric\n",
        "from sklearn.metrics import classification_report\n",
        "\n",
        "# print classification report\n",
        "print(\"Classification Report:\\n\\n\", classification_report(y_test, y_pred))"
      ],
      "execution_count": 0,
      "outputs": [
        {
          "output_type": "stream",
          "text": [
            "Classification Report:\n",
            "\n",
            "               precision    recall  f1-score   support\n",
            "\n",
            "           0       0.95      1.00      0.97    128791\n",
            "           1       0.60      0.00      0.00      6812\n",
            "\n",
            "    accuracy                           0.95    135603\n",
            "   macro avg       0.77      0.50      0.49    135603\n",
            "weighted avg       0.93      0.95      0.93    135603\n",
            "\n"
          ],
          "name": "stdout"
        }
      ]
    },
    {
      "cell_type": "markdown",
      "metadata": {
        "id": "7OPl6GKiJTM1",
        "colab_type": "text"
      },
      "source": [
        "## Logistic regression with downsampling\n"
      ]
    },
    {
      "cell_type": "code",
      "metadata": {
        "id": "MmVt5R4FJTM2",
        "colab_type": "code",
        "outputId": "b9d2d917-6c91-4ec2-8ef3-26ad4ec1fc67",
        "colab": {}
      },
      "source": [
        "df_model_1 = df_model.copy()\n",
        "df_model_1['ClaimNumber'].value_counts()"
      ],
      "execution_count": 0,
      "outputs": [
        {
          "output_type": "execute_result",
          "data": {
            "text/plain": [
              "0    643953\n",
              "1     34060\n",
              "Name: ClaimNumber, dtype: int64"
            ]
          },
          "metadata": {
            "tags": []
          },
          "execution_count": 31
        }
      ]
    },
    {
      "cell_type": "code",
      "metadata": {
        "id": "nrEzjc8QJTM4",
        "colab_type": "code",
        "outputId": "c5227eee-db3b-4dec-8a77-84ab6f694d94",
        "colab": {}
      },
      "source": [
        "# import resample module \n",
        "from sklearn.utils import resample\n",
        "\n",
        "# separate the minority and majority classes\n",
        "df_majority = df_model_1[df_model_1['ClaimNumber']==0]\n",
        "df_minority = df_model_1[df_model_1['ClaimNumber']==1]\n",
        "\n",
        "# undersample majority class\n",
        "df_majority_undersampled_1 = resample(df_majority, replace=True, n_samples=34060, random_state=0)\n",
        "\n",
        "\n",
        "# combine majority class with oversampled minority class\n",
        "df_undersampled_1 = pd.concat([df_minority, df_majority_undersampled_1])\n",
        "\n",
        "# display new class value counts\n",
        "df_undersampled_1['ClaimNumber'].value_counts()"
      ],
      "execution_count": 0,
      "outputs": [
        {
          "output_type": "execute_result",
          "data": {
            "text/plain": [
              "1    34060\n",
              "0    34060\n",
              "Name: ClaimNumber, dtype: int64"
            ]
          },
          "metadata": {
            "tags": []
          },
          "execution_count": 32
        }
      ]
    },
    {
      "cell_type": "code",
      "metadata": {
        "id": "V-hacDIrJTM7",
        "colab_type": "code",
        "outputId": "18ba02e2-c475-4c3e-9d75-385ff818643b",
        "colab": {}
      },
      "source": [
        "#Split the data\n",
        "train1, test1 = train_test_split(df_undersampled_1, test_size=0.2, stratify=df_undersampled_1['ClaimNumber'], random_state=42)\n",
        "\n",
        "train1.shape, test1.shape"
      ],
      "execution_count": 0,
      "outputs": [
        {
          "output_type": "execute_result",
          "data": {
            "text/plain": [
              "((54496, 13), (13624, 13))"
            ]
          },
          "metadata": {
            "tags": []
          },
          "execution_count": 33
        }
      ]
    },
    {
      "cell_type": "code",
      "metadata": {
        "id": "Lek-2nZiJTM9",
        "colab_type": "code",
        "colab": {}
      },
      "source": [
        "def wrangle(X):\n",
        "    # Drop IDpol since it doesn't have any explanatory power\n",
        "    # Drop ClaimNb as they are a function of our target.\n",
        "    column_drop = ['IDpol','ClaimNb']\n",
        "    X = X.drop(columns=column_drop)\n",
        "    return X"
      ],
      "execution_count": 0,
      "outputs": []
    },
    {
      "cell_type": "code",
      "metadata": {
        "id": "XfMxeg0TJTNA",
        "colab_type": "code",
        "colab": {}
      },
      "source": [
        "train1 = wrangle(train1)\n",
        "test1 = wrangle(test1)"
      ],
      "execution_count": 0,
      "outputs": []
    },
    {
      "cell_type": "code",
      "metadata": {
        "id": "oHpZ99bIJTND",
        "colab_type": "code",
        "colab": {}
      },
      "source": [
        "# Arranging features matrix and y target vector\n",
        "target = 'ClaimNumber'\n",
        "X_train1 = train1.drop(columns=target)\n",
        "y_train1 = train1[target]\n",
        "X_test1 = test1.drop(columns=target)\n",
        "y_test1 = test1[target]"
      ],
      "execution_count": 0,
      "outputs": []
    },
    {
      "cell_type": "code",
      "metadata": {
        "id": "GPQyDUo1JTNF",
        "colab_type": "code",
        "colab": {}
      },
      "source": [
        "pipeline = make_pipeline(\n",
        "    ce.OrdinalEncoder(), \n",
        "    SimpleImputer(strategy='mean'), \n",
        "    StandardScaler(), \n",
        "    LogisticRegression(max_iter=1000)\n",
        ")\n",
        "\n",
        "# Fit on train\n",
        "pipeline.fit(X_train1, y_train1)\n",
        "\n",
        "# Predict on test\n",
        "y_pred1 = pipeline.predict(X_test1)"
      ],
      "execution_count": 0,
      "outputs": []
    },
    {
      "cell_type": "code",
      "metadata": {
        "id": "iFxd_2eRJTNJ",
        "colab_type": "code",
        "outputId": "0c05faf0-41f6-44cb-f5da-ed93db167fb5",
        "colab": {}
      },
      "source": [
        "# Test accuracy\n",
        "accuracy = accuracy_score(y_pred1, y_test1)\n",
        "\n",
        "print(\"Accuracy : %.4f%%\" % (accuracy * 100.0))"
      ],
      "execution_count": 0,
      "outputs": [
        {
          "output_type": "stream",
          "text": [
            "Accuracy : 59.3144%\n"
          ],
          "name": "stdout"
        }
      ]
    },
    {
      "cell_type": "code",
      "metadata": {
        "id": "42nNB-0aJTNO",
        "colab_type": "code",
        "outputId": "7ddb8656-1e73-47c6-cc42-a4ed0b3c20c3",
        "colab": {}
      },
      "source": [
        "from sklearn.metrics import confusion_matrix\n",
        "cnf_matrix = confusion_matrix(y_test1, y_pred1)\n",
        "\n",
        "print('Confusion matrix:\\n', cnf_matrix)"
      ],
      "execution_count": 0,
      "outputs": [
        {
          "output_type": "stream",
          "text": [
            "Confusion matrix:\n",
            " [[3916 2896]\n",
            " [2647 4165]]\n"
          ],
          "name": "stdout"
        }
      ]
    },
    {
      "cell_type": "code",
      "metadata": {
        "id": "2w_w93nKJTNU",
        "colab_type": "code",
        "outputId": "9c8867c6-a0ee-460d-f13f-6c1fc25da11c",
        "colab": {}
      },
      "source": [
        "# Explanatory graph: Confusion Matrix \n",
        "from sklearn.metrics import plot_confusion_matrix\n",
        "plot_confusion_matrix(pipeline, X_test1, y_test1, values_format='.0f', xticks_rotation='vertical')"
      ],
      "execution_count": 0,
      "outputs": [
        {
          "output_type": "execute_result",
          "data": {
            "text/plain": [
              "<sklearn.metrics._plot.confusion_matrix.ConfusionMatrixDisplay at 0x1a3337bf50>"
            ]
          },
          "metadata": {
            "tags": []
          },
          "execution_count": 40
        },
        {
          "output_type": "display_data",
          "data": {
            "image/png": "[encoded data removed]",
            "text/plain": [
              "<Figure size 432x288 with 2 Axes>"
            ]
          },
          "metadata": {
            "tags": [],
            "needs_background": "light"
          }
        }
      ]
    },
    {
      "cell_type": "code",
      "metadata": {
        "scrolled": true,
        "id": "BWaTH50IJTNZ",
        "colab_type": "code",
        "outputId": "c067fc62-d0fd-4524-ef42-d068c73ccfbe",
        "colab": {}
      },
      "source": [
        "# import the metric\n",
        "from sklearn.metrics import classification_report\n",
        "\n",
        "# print classification report\n",
        "print(\"Classification Report:\\n\\n\", classification_report(y_test1, y_pred1))"
      ],
      "execution_count": 0,
      "outputs": [
        {
          "output_type": "stream",
          "text": [
            "Classification Report:\n",
            "\n",
            "               precision    recall  f1-score   support\n",
            "\n",
            "           0       0.60      0.57      0.59      6812\n",
            "           1       0.59      0.61      0.60      6812\n",
            "\n",
            "    accuracy                           0.59     13624\n",
            "   macro avg       0.59      0.59      0.59     13624\n",
            "weighted avg       0.59      0.59      0.59     13624\n",
            "\n"
          ],
          "name": "stdout"
        }
      ]
    },
    {
      "cell_type": "code",
      "metadata": {
        "id": "Z-OeNDinJTNc",
        "colab_type": "code",
        "outputId": "0c39b72b-962b-4e58-9493-47ce834f0d61",
        "colab": {}
      },
      "source": [
        "pipeline.predict(X_test1)"
      ],
      "execution_count": 0,
      "outputs": [
        {
          "output_type": "execute_result",
          "data": {
            "text/plain": [
              "array([0, 1, 0, ..., 1, 1, 0])"
            ]
          },
          "metadata": {
            "tags": []
          },
          "execution_count": 62
        }
      ]
    },
    {
      "cell_type": "code",
      "metadata": {
        "id": "cLMRP8yhJTNh",
        "colab_type": "code",
        "outputId": "4b117c4a-4732-484e-a3b3-2c1590aaf8f4",
        "colab": {}
      },
      "source": [
        "pipeline.predict_proba(X_test1)"
      ],
      "execution_count": 0,
      "outputs": [
        {
          "output_type": "execute_result",
          "data": {
            "text/plain": [
              "array([[0.7379572 , 0.2620428 ],\n",
              "       [0.32677954, 0.67322046],\n",
              "       [0.52643753, 0.47356247],\n",
              "       ...,\n",
              "       [0.40509685, 0.59490315],\n",
              "       [0.48181653, 0.51818347],\n",
              "       [0.68314097, 0.31685903]])"
            ]
          },
          "metadata": {
            "tags": []
          },
          "execution_count": 63
        }
      ]
    },
    {
      "cell_type": "code",
      "metadata": {
        "id": "VuTX3BARJTNk",
        "colab_type": "code",
        "outputId": "37990e77-2281-4b2f-ef80-be06944fa47a",
        "colab": {}
      },
      "source": [
        "pipeline.predict_proba(X_test1)[:, 1]"
      ],
      "execution_count": 0,
      "outputs": [
        {
          "output_type": "execute_result",
          "data": {
            "text/plain": [
              "array([0.2620428 , 0.67322046, 0.47356247, ..., 0.59490315, 0.51818347,\n",
              "       0.31685903])"
            ]
          },
          "metadata": {
            "tags": []
          },
          "execution_count": 64
        }
      ]
    },
    {
      "cell_type": "code",
      "metadata": {
        "id": "DWgcsbaMJTNr",
        "colab_type": "code",
        "outputId": "6c654e66-55be-4a3f-90ae-18fc803aa73e",
        "colab": {}
      },
      "source": [
        "threshold = 0.50\n",
        "pipeline.predict_proba(X_test1)[:, 1] > threshold"
      ],
      "execution_count": 0,
      "outputs": [
        {
          "output_type": "execute_result",
          "data": {
            "text/plain": [
              "array([False,  True, False, ...,  True,  True, False])"
            ]
          },
          "metadata": {
            "tags": []
          },
          "execution_count": 65
        }
      ]
    },
    {
      "cell_type": "code",
      "metadata": {
        "id": "Kpp9WjC9JTNv",
        "colab_type": "code",
        "outputId": "19243565-d52b-4035-929e-a123c0802b25",
        "colab": {}
      },
      "source": [
        "import seaborn as sns\n",
        "\n",
        "y_pred_proba1 = pipeline.predict_proba(X_test1)[:, 1]\n",
        "sns.distplot(y_pred_proba1);\n"
      ],
      "execution_count": 0,
      "outputs": [
        {
          "output_type": "display_data",
          "data": {
            "image/png": "[encoded data removed]",
            "text/plain": [
              "<Figure size 432x288 with 1 Axes>"
            ]
          },
          "metadata": {
            "tags": [],
            "needs_background": "light"
          }
        }
      ]
    },
    {
      "cell_type": "code",
      "metadata": {
        "id": "0DOw_lUpJTNz",
        "colab_type": "code",
        "outputId": "a8f0fb06-1f24-49f7-9bb1-82baeb1d460c",
        "colab": {}
      },
      "source": [
        "threshold = 0.50\n",
        "\n",
        "y_pred1 = y_pred_proba1 > threshold\n",
        "\n",
        "ax = sns.distplot(y_pred_proba1)\n",
        "ax.axvline(threshold, color='red')\n",
        "\n",
        "pd.Series(y_pred1).value_counts()"
      ],
      "execution_count": 0,
      "outputs": [
        {
          "output_type": "execute_result",
          "data": {
            "text/plain": [
              "True     7114\n",
              "False    6510\n",
              "dtype: int64"
            ]
          },
          "metadata": {
            "tags": []
          },
          "execution_count": 67
        },
        {
          "output_type": "display_data",
          "data": {
            "image/png": "[encoded data removed]",
            "text/plain": [
              "<Figure size 432x288 with 1 Axes>"
            ]
          },
          "metadata": {
            "tags": [],
            "needs_background": "light"
          }
        }
      ]
    },
    {
      "cell_type": "code",
      "metadata": {
        "id": "c88eNw-CJTN2",
        "colab_type": "code",
        "colab": {}
      },
      "source": [
        "# Use scikit-learn to calculate TPR & FPR at various thresholds\n",
        "from sklearn.metrics import roc_curve\n",
        "fpr, tpr, thresholds = roc_curve(y_test1, y_pred_proba1)"
      ],
      "execution_count": 0,
      "outputs": []
    },
    {
      "cell_type": "code",
      "metadata": {
        "id": "-I9rj6lVJTN4",
        "colab_type": "code",
        "outputId": "f83889ea-596a-4e38-b7a5-c40d0aa27741",
        "colab": {}
      },
      "source": [
        "# See the results on a plot. \n",
        "# This is the \"Receiver Operating Characteristic\" curve\n",
        "plt.scatter(fpr, tpr)\n",
        "plt.title('ROC curve')\n",
        "plt.xlabel('False Positive Rate')\n",
        "plt.ylabel('True Positive Rate');"
      ],
      "execution_count": 0,
      "outputs": [
        {
          "output_type": "display_data",
          "data": {
            "image/png": "[encoded data removed]",
            "text/plain": [
              "<Figure size 432x288 with 1 Axes>"
            ]
          },
          "metadata": {
            "tags": [],
            "needs_background": "light"
          }
        }
      ]
    },
    {
      "cell_type": "code",
      "metadata": {
        "id": "iPTkqS75JTN6",
        "colab_type": "code",
        "outputId": "5125f4fd-fcc9-43eb-8b4f-4d7889024981",
        "colab": {}
      },
      "source": [
        "from sklearn.metrics import roc_auc_score\n",
        "roc_auc_score(y_test1, y_pred_proba1)"
      ],
      "execution_count": 0,
      "outputs": [
        {
          "output_type": "execute_result",
          "data": {
            "text/plain": [
              "0.6359509133652093"
            ]
          },
          "metadata": {
            "tags": []
          },
          "execution_count": 70
        }
      ]
    },
    {
      "cell_type": "markdown",
      "metadata": {
        "id": "SCV4waQPJTN9",
        "colab_type": "text"
      },
      "source": [
        "## I will oversample the minority class. "
      ]
    },
    {
      "cell_type": "code",
      "metadata": {
        "id": "1_15f2V0JTN-",
        "colab_type": "code",
        "outputId": "1b694d18-d2e2-4b08-d34f-01fb12af53b1",
        "colab": {}
      },
      "source": [
        "# import resample module \n",
        "from sklearn.utils import resample\n",
        "\n",
        "# separate the minority and majority classes\n",
        "df_majority = df_model_1[df_model_1['ClaimNumber']==0]\n",
        "df_minority = df_model_1[df_model_1['ClaimNumber']==1]\n",
        "\n",
        "# oversample minority class\n",
        "df_minority_oversampled_1 = resample(df_minority, replace=True, n_samples=643953, random_state=0)\n",
        "\n",
        "\n",
        "# combine majority class with oversampled minority class\n",
        "df_oversampled_1 = pd.concat([df_majority, df_minority_oversampled_1])\n",
        "\n",
        "# display new class value counts\n",
        "df_oversampled_1['ClaimNumber'].value_counts()"
      ],
      "execution_count": 0,
      "outputs": [
        {
          "output_type": "execute_result",
          "data": {
            "text/plain": [
              "1    643953\n",
              "0    643953\n",
              "Name: ClaimNumber, dtype: int64"
            ]
          },
          "metadata": {
            "tags": []
          },
          "execution_count": 42
        }
      ]
    },
    {
      "cell_type": "code",
      "metadata": {
        "id": "Ya6s7ypIJTOE",
        "colab_type": "code",
        "outputId": "5717f4f6-0b44-4c83-d6bf-42d83a17fded",
        "colab": {}
      },
      "source": [
        "#Split the data\n",
        "train2, test2 = train_test_split(df_oversampled_1, test_size=0.2, stratify=df_oversampled_1['ClaimNumber'], random_state=42)\n",
        "\n",
        "train2.shape, test2.shape"
      ],
      "execution_count": 0,
      "outputs": [
        {
          "output_type": "execute_result",
          "data": {
            "text/plain": [
              "((1030324, 13), (257582, 13))"
            ]
          },
          "metadata": {
            "tags": []
          },
          "execution_count": 43
        }
      ]
    },
    {
      "cell_type": "code",
      "metadata": {
        "id": "EzcuB9YPJTOK",
        "colab_type": "code",
        "colab": {}
      },
      "source": [
        "def wrangle(X):\n",
        "    # Drop IDpol since it doesn't have any explanatory power\n",
        "    # Drop ClaimNb as they are a function of our target.\n",
        "    column_drop = ['IDpol','ClaimNb']\n",
        "    X = X.drop(columns=column_drop)\n",
        "    return X"
      ],
      "execution_count": 0,
      "outputs": []
    },
    {
      "cell_type": "code",
      "metadata": {
        "id": "ebcZr4V3JTOQ",
        "colab_type": "code",
        "colab": {}
      },
      "source": [
        "train2 = wrangle(train2)\n",
        "test2 = wrangle(test2)"
      ],
      "execution_count": 0,
      "outputs": []
    },
    {
      "cell_type": "code",
      "metadata": {
        "id": "CLCBLPyuJTOS",
        "colab_type": "code",
        "colab": {}
      },
      "source": [
        "# Arranging features matrix and y target vector\n",
        "target = 'ClaimNumber'\n",
        "X_train2 = train2.drop(columns=target)\n",
        "y_train2 = train2[target]\n",
        "X_test2 = test2.drop(columns=target)\n",
        "y_test2 = test2[target]"
      ],
      "execution_count": 0,
      "outputs": []
    },
    {
      "cell_type": "code",
      "metadata": {
        "id": "ABsDKALyJTOX",
        "colab_type": "code",
        "colab": {}
      },
      "source": [
        "pipeline = make_pipeline(\n",
        "    ce.OrdinalEncoder(), \n",
        "    SimpleImputer(strategy='mean'), \n",
        "    StandardScaler(), \n",
        "    LogisticRegression(max_iter=1000)\n",
        ")\n",
        "\n",
        "# Fit on train\n",
        "pipeline.fit(X_train2, y_train2)\n",
        "\n",
        "# Predict on test\n",
        "y_pred2 = pipeline.predict(X_test2)"
      ],
      "execution_count": 0,
      "outputs": []
    },
    {
      "cell_type": "code",
      "metadata": {
        "id": "TxSBk6EgJTOb",
        "colab_type": "code",
        "outputId": "bfa41536-fe38-4ff1-df84-fab0789cb1f2",
        "colab": {}
      },
      "source": [
        "# Test accuracy\n",
        "accuracy = accuracy_score(y_pred2, y_test2)\n",
        "\n",
        "print(\"Accuracy : %.4f%%\" % (accuracy * 100.0))"
      ],
      "execution_count": 0,
      "outputs": [
        {
          "output_type": "stream",
          "text": [
            "Accuracy : 59.2747%\n"
          ],
          "name": "stdout"
        }
      ]
    },
    {
      "cell_type": "code",
      "metadata": {
        "id": "DVo4FJeKJTOe",
        "colab_type": "code",
        "outputId": "cc531416-626b-4424-c373-0b9993916127",
        "colab": {}
      },
      "source": [
        "from sklearn.metrics import confusion_matrix\n",
        "cnf_matrix = confusion_matrix(y_test2, y_pred2)\n",
        "\n",
        "print('Confusion matrix:\\n', cnf_matrix)"
      ],
      "execution_count": 0,
      "outputs": [
        {
          "output_type": "stream",
          "text": [
            "Confusion matrix:\n",
            " [[74396 54395]\n",
            " [50506 78285]]\n"
          ],
          "name": "stdout"
        }
      ]
    },
    {
      "cell_type": "code",
      "metadata": {
        "id": "YaoDk6-jJTOi",
        "colab_type": "code",
        "outputId": "25dd4a97-1388-45da-db77-fd9b798cdae1",
        "colab": {}
      },
      "source": [
        "# Explanatory graph: Confusion Matrix \n",
        "from sklearn.metrics import plot_confusion_matrix\n",
        "plot_confusion_matrix(pipeline, X_test2, y_test2, values_format='.0f', xticks_rotation='vertical')"
      ],
      "execution_count": 0,
      "outputs": [
        {
          "output_type": "execute_result",
          "data": {
            "text/plain": [
              "<sklearn.metrics._plot.confusion_matrix.ConfusionMatrixDisplay at 0x1a4420d910>"
            ]
          },
          "metadata": {
            "tags": []
          },
          "execution_count": 50
        },
        {
          "output_type": "display_data",
          "data": {
            "image/png": "[encoded data removed]",
            "text/plain": [
              "<Figure size 432x288 with 2 Axes>"
            ]
          },
          "metadata": {
            "tags": [],
            "needs_background": "light"
          }
        }
      ]
    },
    {
      "cell_type": "code",
      "metadata": {
        "id": "EP8K9T5zJTOk",
        "colab_type": "code",
        "outputId": "14b6dd2f-bac1-43d0-9797-06665144e4db",
        "colab": {}
      },
      "source": [
        "# import the metric\n",
        "from sklearn.metrics import classification_report\n",
        "\n",
        "# print classification report\n",
        "print(\"Classification Report:\\n\\n\", classification_report(y_test2, y_pred2))"
      ],
      "execution_count": 0,
      "outputs": [
        {
          "output_type": "stream",
          "text": [
            "Classification Report:\n",
            "\n",
            "               precision    recall  f1-score   support\n",
            "\n",
            "           0       0.60      0.58      0.59    128791\n",
            "           1       0.59      0.61      0.60    128791\n",
            "\n",
            "    accuracy                           0.59    257582\n",
            "   macro avg       0.59      0.59      0.59    257582\n",
            "weighted avg       0.59      0.59      0.59    257582\n",
            "\n"
          ],
          "name": "stdout"
        }
      ]
    },
    {
      "cell_type": "code",
      "metadata": {
        "id": "3qmp-JmOJTOo",
        "colab_type": "code",
        "outputId": "9cf04956-db0e-48d3-df0a-103000198e52",
        "colab": {}
      },
      "source": [
        "pipeline.predict(X_test2)"
      ],
      "execution_count": 0,
      "outputs": [
        {
          "output_type": "execute_result",
          "data": {
            "text/plain": [
              "array([0, 1, 0, ..., 1, 0, 1])"
            ]
          },
          "metadata": {
            "tags": []
          },
          "execution_count": 71
        }
      ]
    },
    {
      "cell_type": "code",
      "metadata": {
        "id": "T_SmdDnvJTOq",
        "colab_type": "code",
        "outputId": "1643e515-79fa-4aaa-8119-daba565785c8",
        "colab": {}
      },
      "source": [
        "pipeline.predict_proba(X_test2)"
      ],
      "execution_count": 0,
      "outputs": [
        {
          "output_type": "execute_result",
          "data": {
            "text/plain": [
              "array([[0.61877531, 0.38122469],\n",
              "       [0.39042981, 0.60957019],\n",
              "       [0.56549005, 0.43450995],\n",
              "       ...,\n",
              "       [0.41376902, 0.58623098],\n",
              "       [0.52472497, 0.47527503],\n",
              "       [0.40349983, 0.59650017]])"
            ]
          },
          "metadata": {
            "tags": []
          },
          "execution_count": 72
        }
      ]
    },
    {
      "cell_type": "code",
      "metadata": {
        "id": "IXKAlzXAJTOs",
        "colab_type": "code",
        "outputId": "b88a9b72-568d-4373-ee64-669255d8f4d4",
        "colab": {}
      },
      "source": [
        "pipeline.predict_proba(X_test2)[:, 1]"
      ],
      "execution_count": 0,
      "outputs": [
        {
          "output_type": "execute_result",
          "data": {
            "text/plain": [
              "array([0.38122469, 0.60957019, 0.43450995, ..., 0.58623098, 0.47527503,\n",
              "       0.59650017])"
            ]
          },
          "metadata": {
            "tags": []
          },
          "execution_count": 73
        }
      ]
    },
    {
      "cell_type": "code",
      "metadata": {
        "id": "2KjpDXuEJTOu",
        "colab_type": "code",
        "outputId": "8c21170b-fa47-42b6-f6c2-970d9cfd7b27",
        "colab": {}
      },
      "source": [
        "threshold = 0.50\n",
        "pipeline.predict_proba(X_test2)[:, 1] > threshold"
      ],
      "execution_count": 0,
      "outputs": [
        {
          "output_type": "execute_result",
          "data": {
            "text/plain": [
              "array([False,  True, False, ...,  True, False,  True])"
            ]
          },
          "metadata": {
            "tags": []
          },
          "execution_count": 74
        }
      ]
    },
    {
      "cell_type": "code",
      "metadata": {
        "id": "5gfU_t1gJTOx",
        "colab_type": "code",
        "outputId": "2b39a385-afb8-44fb-8771-c40b02b27e76",
        "colab": {}
      },
      "source": [
        "import seaborn as sns\n",
        "\n",
        "y_pred_proba2 = pipeline.predict_proba(X_test2)[:, 1]\n",
        "sns.distplot(y_pred_proba2);"
      ],
      "execution_count": 0,
      "outputs": [
        {
          "output_type": "display_data",
          "data": {
            "image/png": "[encoded data removed]",
            "text/plain": [
              "<Figure size 432x288 with 1 Axes>"
            ]
          },
          "metadata": {
            "tags": [],
            "needs_background": "light"
          }
        }
      ]
    },
    {
      "cell_type": "code",
      "metadata": {
        "id": "ZQDLdOAhJTO1",
        "colab_type": "code",
        "outputId": "381d79d9-0297-4cf3-87c0-259ab8a451b8",
        "colab": {}
      },
      "source": [
        "threshold = 0.50\n",
        "\n",
        "y_pred2 = y_pred_proba2 > threshold\n",
        "\n",
        "ax = sns.distplot(y_pred_proba2)\n",
        "ax.axvline(threshold, color='red')\n",
        "\n",
        "pd.Series(y_pred2).value_counts()"
      ],
      "execution_count": 0,
      "outputs": [
        {
          "output_type": "execute_result",
          "data": {
            "text/plain": [
              "True     132680\n",
              "False    124902\n",
              "dtype: int64"
            ]
          },
          "metadata": {
            "tags": []
          },
          "execution_count": 76
        },
        {
          "output_type": "display_data",
          "data": {
            "image/png": "[encoded data removed]",
            "text/plain": [
              "<Figure size 432x288 with 1 Axes>"
            ]
          },
          "metadata": {
            "tags": [],
            "needs_background": "light"
          }
        }
      ]
    },
    {
      "cell_type": "code",
      "metadata": {
        "id": "ebbTMEsHJTO3",
        "colab_type": "code",
        "colab": {}
      },
      "source": [
        "# Use scikit-learn to calculate TPR & FPR at various thresholds\n",
        "from sklearn.metrics import roc_curve\n",
        "fpr, tpr, thresholds = roc_curve(y_test2, y_pred_proba2)"
      ],
      "execution_count": 0,
      "outputs": []
    },
    {
      "cell_type": "code",
      "metadata": {
        "id": "y1Shgu82JTO6",
        "colab_type": "code",
        "outputId": "e37d803a-faaf-4f7b-9464-bee0cdd4fa44",
        "colab": {}
      },
      "source": [
        "# See the results on a plot. \n",
        "# This is the \"Receiver Operating Characteristic\" curve\n",
        "plt.scatter(fpr, tpr)\n",
        "plt.title('ROC curve')\n",
        "plt.xlabel('False Positive Rate')\n",
        "plt.ylabel('True Positive Rate');"
      ],
      "execution_count": 0,
      "outputs": [
        {
          "output_type": "display_data",
          "data": {
            "image/png": "[encoded data removed]",
            "text/plain": [
              "<Figure size 432x288 with 1 Axes>"
            ]
          },
          "metadata": {
            "tags": [],
            "needs_background": "light"
          }
        }
      ]
    },
    {
      "cell_type": "code",
      "metadata": {
        "id": "dVlaT0BgJTO8",
        "colab_type": "code",
        "outputId": "976d3bf6-a7b9-459e-b0f1-3a5922e62ce1",
        "colab": {}
      },
      "source": [
        "from sklearn.metrics import roc_auc_score\n",
        "roc_auc_score(y_test2, y_pred_proba2)"
      ],
      "execution_count": 0,
      "outputs": [
        {
          "output_type": "execute_result",
          "data": {
            "text/plain": [
              "0.6330833202681924"
            ]
          },
          "metadata": {
            "tags": []
          },
          "execution_count": 79
        }
      ]
    }
  ]
}